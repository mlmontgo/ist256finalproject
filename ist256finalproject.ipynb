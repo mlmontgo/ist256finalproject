{
 "cells": [
  {
   "cell_type": "code",
   "execution_count": 2,
   "id": "0205190a-eb53-4f66-afd3-7f94dade4b73",
   "metadata": {
    "tags": []
   },
   "outputs": [
    {
     "name": "stdout",
     "output_type": "stream",
     "text": [
      "This stock analyzer will show you the candlestick plot, barplot, statistics, HPR, Sharpe ratio, and investment opinoins for your selected stocks.\n",
      "You may choose between 4 of the most popular stocks in the tech industry today; Apple (AAPL), Microsoft (MSFT), Amazon (AMZN), and Tesla (TSLA)\n",
      "To view the correlation matrix between two stocks, only select the two stocks you wish to view the correlation of.\n"
     ]
    },
    {
     "data": {
      "application/vnd.jupyter.widget-view+json": {
       "model_id": "61910dbe20ef453f810e8720af8a954c",
       "version_major": 2,
       "version_minor": 0
      },
      "text/plain": [
       "interactive(children=(Checkbox(value=False, description='AAPL'), Checkbox(value=False, description='AMZN'), Ch…"
      ]
     },
     "metadata": {},
     "output_type": "display_data"
    }
   ],
   "source": [
    "import pandas as pd\n",
    "import numpy as np\n",
    "import warnings\n",
    "import seaborn as sns\n",
    "import plotly.graph_objects as go\n",
    "from datetime import datetime\n",
    "from IPython.display import display, HTML\n",
    "from ipywidgets import widgets, interact_manual, Checkbox\n",
    "warnings.filterwarnings('ignore')\n",
    "df = pd.read_csv('https://raw.githubusercontent.com/mlmontgo/dataset/main/stock_data.csv')\n",
    "rf = 0.0025\n",
    "def dif(opens,close):  \n",
    "    difference = close-opens\n",
    "    return difference\n",
    "def HPR(opens,close):\n",
    "    HPR = (close-opens)/opens\n",
    "    return HPR\n",
    "df[\"Difference\"] = df.apply(lambda row: dif(row['Open'],row['Close']), axis=1)\n",
    "df['HPR'] = df.apply(lambda row: HPR(row['Open'],row['Close']),axis=1)\n",
    "\n",
    "#creating seperate df for each stock\n",
    "AAPL = df[df['Symbol'] == \"AAPL\"]\n",
    "MSFT = df[df['Symbol'] == \"MSFT\"]\n",
    "TSLA = df[df['Symbol'] == \"TSLA\"]\n",
    "AMZN = df[df['Symbol'] == \"AMZN\"]\n",
    "\n",
    "def prints(**checkboxes):\n",
    "    selected_options = [option for option, value in checkboxes.items() if value]\n",
    "    print(\"Selected options:\", selected_options)\n",
    "\n",
    "options = ['AAPL', 'AMZN', 'MSFT','TSLA']\n",
    "checkboxes = {option: Checkbox(value=False, description=option) for option in options}\n",
    "print(\"This stock analyzer will show you the candlestick plot, barplot, statistics, HPR, Sharpe ratio, and investment opinoins for your selected stocks.\")\n",
    "print(\"You may choose between 4 of the most popular stocks in the tech industry today; Apple (AAPL), Microsoft (MSFT), Amazon (AMZN), and Tesla (TSLA)\")\n",
    "print(\"To view the correlation matrix between two stocks, only select the two stocks you wish to view the correlation of.\")\n",
    "@interact_manual(**checkboxes)\n",
    "def on_click(**checkboxes):\n",
    "    columns = ['Date','Open','High','Low','Close','Adj Close','Volume','Symbol']\n",
    "    stocks = pd.DataFrame(columns = columns)\n",
    "    select = [option for option, value in checkboxes.items() if value]\n",
    "    for i in select:\n",
    "        if i == 'AAPL':\n",
    "            stocks = pd.merge(stocks, AAPL, how = 'outer')\n",
    "        elif i == 'MSFT':\n",
    "            stocks = pd.merge(stocks,MSFT,how = 'outer')\n",
    "        elif i == 'AMZN':\n",
    "            stocks = pd.merge(stocks,AMZN,how = 'outer')\n",
    "        elif i == 'TSLA':\n",
    "            stocks = pd.merge(stocks,TSLA,how = 'outer')\n",
    "        fig = sns.barplot(data = stocks, x = \"Symbol\", y = \"Difference\", estimator = 'average',errorbar = None)\n",
    "        fig\n",
    "    if len(select) == 2:\n",
    "        numeric_columns = stocks.select_dtypes(include=np.number).columns\n",
    "        correlation_matrix = stocks[numeric_columns].corr(method='pearson')\n",
    "        print(\"Correlation Matrix:\")\n",
    "        print(correlation_matrix)\n",
    "    mean_HPR = []\n",
    "    max = 0\n",
    "    max_HPR = \"\"\n",
    "    for symbol in select:\n",
    "        data = stocks[stocks['Symbol'] == symbol]\n",
    "        fig = go.Figure(data=[go.Candlestick(x=data['Date'],\n",
    "                                         open=data['Open'],\n",
    "                                         high=data['High'],\n",
    "                                         low=data['Low'],\n",
    "                                         close=data['Close'])])\n",
    "        fig.update_layout(title=f'{symbol} Candlestick Chart')\n",
    "        fig.show()\n",
    "        print(\"Stock Statistics: \")\n",
    "    grouped_stats = stocks.groupby('Symbol')['Difference'].describe()\n",
    "    for symbol in select:\n",
    "        data = stocks[stocks['Symbol'] == symbol]\n",
    "        mean = np.mean(data['HPR'])\n",
    "        mean = round(mean,5)\n",
    "        if max_HPR == 0:\n",
    "            max_HPR = symbol\n",
    "            max = mean\n",
    "        elif mean > max:\n",
    "            max_HPR = symbol\n",
    "            max = mean\n",
    "        mean_HPR.append(mean)\n",
    "        print(f'{symbol} HPR: {mean}')\n",
    "    count = 0\n",
    "    maxS = 0\n",
    "    max_Sharpe = \"\"\n",
    "    for symbol in select:\n",
    "        data = stocks[stocks['Symbol'] == symbol]\n",
    "        Sharpe = (mean_HPR[count] - rf)/np.std(data['Difference'])\n",
    "        Sharpe = round(Sharpe,5)\n",
    "        print(f'{symbol} Sharpe: {Sharpe}')\n",
    "        if maxS == 0:\n",
    "            maxS = Sharpe\n",
    "            max_Sharpe = symbol\n",
    "        if Sharpe > maxS:\n",
    "            max_Sharpe = symbol\n",
    "            maxS = Sharpe\n",
    "        count+=1\n",
    "    print(grouped_stats)\n",
    "    print(\"A Sharpe value represents a stocks return per unit of risk that it takes on. Investors typically like to invest in stocks with the highest Sharpe ratio.\")\n",
    "    print(\"The Sharpe ratio calculations are assuming a risk free rate of .25%\")\n",
    "    print(f'With youre chosen stocks, {max_Sharpe} has the highest Sharpe ratio of {maxS}, and therefore out of these stocks should be invested in.')\n",
    "    if max_HPR == max_Sharpe:\n",
    "        print(f'The same stock, {max_HPR}, also has the highest holding period return, of {max}')"
   ]
  }
 ],
 "metadata": {
  "kernelspec": {
   "display_name": "Python 3 (ipykernel)",
   "language": "python",
   "name": "python3"
  },
  "language_info": {
   "codemirror_mode": {
    "name": "ipython",
    "version": 3
   },
   "file_extension": ".py",
   "mimetype": "text/x-python",
   "name": "python",
   "nbconvert_exporter": "python",
   "pygments_lexer": "ipython3",
   "version": "3.11.7"
  }
 },
 "nbformat": 4,
 "nbformat_minor": 5
}
